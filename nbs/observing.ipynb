{
 "cells": [
  {
   "cell_type": "code",
   "execution_count": null,
   "id": "87dbe1b5",
   "metadata": {},
   "outputs": [],
   "source": [
    "#| default_exp observing"
   ]
  },
  {
   "cell_type": "code",
   "execution_count": null,
   "id": "bce29853",
   "metadata": {},
   "outputs": [],
   "source": [
    "#| export\n",
    "import serial\n",
    "import requests"
   ]
  },
  {
   "cell_type": "code",
   "execution_count": null,
   "id": "ef77c4c1",
   "metadata": {},
   "outputs": [],
   "source": [
    "#| export\n",
    "def read_person_detection_from_serial(port:str):\n",
    "    \"Reads a single person detection prediction line over serial and returns dict containing scores with keys `Person` and `No person`. Returns None if serial fails.\"\n",
    "    try:\n",
    "        with serial.Serial(port, 19200, timeout=1) as ser:\n",
    "            output = ser.readline().decode(\"ascii\").strip() # \"Person score: 60.54% No person score: 39.45%\"\n",
    "            parts = output.split(\" \")\n",
    "            return {\"Person\":float(parts[2][:-1]), \"No person\":float(parts[6][:-1])}\n",
    "    except:\n",
    "        return None"
   ]
  },
  {
   "cell_type": "code",
   "execution_count": null,
   "id": "6f0bd112",
   "metadata": {},
   "outputs": [],
   "source": [
    "#| export\n",
    "def read_person_detection_from_relay(relay_url:str, device:str):\n",
    "    \"\"\"\n",
    "    Reads a single person detection result from relay server.\n",
    "    Args: `relay_url` is the URL of the relay server, and `device` is the device name/id (TBD) that the relay maps to the serial port.\n",
    "    Returns dict containing scores with keys `Person` and `No person`. Returns None if relay doesn't return JSON.\n",
    "    \"\"\"\n",
    "    url = relay_url + \"/prediction\"\n",
    "    try:\n",
    "        r = requests.get(url, params={\"device\":device})\n",
    "        if r.status_code != 200:\n",
    "            return None\n",
    "        return r.json()\n",
    "    except:\n",
    "        return None\n"
   ]
  }
 ],
 "metadata": {
  "kernelspec": {
   "display_name": "python3",
   "language": "python",
   "name": "python3"
  }
 },
 "nbformat": 4,
 "nbformat_minor": 5
}
