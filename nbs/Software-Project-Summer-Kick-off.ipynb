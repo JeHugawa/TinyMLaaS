{
 "cells": [
  {
   "cell_type": "markdown",
   "id": "23536451",
   "metadata": {},
   "source": [
    "# Software Project Summer Kick-off\n",
    "\n",
    "\n",
    "- On 15/05/2023\n",
    "- Duration: 7 weeks, week20-26 (Ends at 30th June?)"
   ]
  },
  {
   "cell_type": "markdown",
   "id": "2ecd72b3",
   "metadata": {},
   "source": [
    "# Introduction of this project\n",
    "\n",
    "This was a successor of the previous software project in Winter. Here are the info:\n",
    "- Video [Sprint3 demo](https://www.youtube.com/watch?v=A_LCKB8y0Dw), Mid\n",
    "- Video [Sprint7 demo](https://www.youtube.com/watch?v=QP_SVvXCFxE), Final\n",
    "- Source code in [GH Repo](https://github.com/Origami-TinyML/tflm_hello_world)\n",
    "- Project [document](https://origami-tinyml.github.io/tflm_hello_world/), generated automatically"
   ]
  },
  {
   "cell_type": "markdown",
   "id": "6a0d3487",
   "metadata": {},
   "source": [
    "# Goal for this summer\n",
    "\n",
    "Right now there's no clear boundary between UI and its backend.\n",
    "We want to make them separted.\n",
    "The current Streamlit UI should be a pure frontend.\n",
    "The backend logic should be a REST backend server (e.g. fast API)\n",
    "Finall we want a CLI tool to control in additon to the current UI.\n",
    "A CLI tool should do the exact same things as the UI does right now.\n",
    "\n",
    " ```console\n",
    "$ tmlaas device list\n",
    "<list device name>\n",
    "$ tmlaas model list\n",
    "<list device name>\n",
    "$ tmlass device=<device id> install model=<model id>\n",
    "```\n",
    "\n",
    "You may want to refer to this project as CLI example, https://ghapi.fast.ai/"
   ]
  },
  {
   "cell_type": "markdown",
   "id": "79f866dd",
   "metadata": {},
   "source": [
    "# Development envrionment\n",
    "- SCRUM, [User story mapping](https://youtu.be/6ojIZ81PfJc) to set common goals with all stakeholders.\n",
    "- [Nbdev](https://nbdev.fast.ai/), Jupyter notebook framework for code, (unit)tests & doc at once, [Nbdev tutorial video](https://youtu.be/67FdzLSt4aA).\n",
    "- [Docker compose](https://docs.docker.com/compose/) to run the whole system at once, [turorial video](https://youtu.be/HG6yIjZapSA).\n",
    "- [Acceptance Test Driven Development](https://en.wikipedia.org/wiki/Acceptance_test-driven_development) (ATDD) to sync up with a client.\n",
    "- [Streamlit](https://streamlit.io/) for UI framework used in this project.\n",
    "- [GH Project](https://docs.github.com/en/issues/planning-and-tracking-with-projects/learning-about-projects/about-projects) as [Kanban](https://www.atlassian.com/agile/kanban)\n",
    "- [GH Workflow](https://docs.github.com/en/actions/using-workflows) as CI/CD"
   ]
  },
  {
   "cell_type": "markdown",
   "id": "b938b015",
   "metadata": {},
   "source": [
    "# Communication\n",
    "\n",
    "- [Discord](https://discord.gg/Er4DHFyG), Click to join."
   ]
  },
  {
   "cell_type": "markdown",
   "id": "4d12ebce",
   "metadata": {},
   "source": [
    "# Next\n",
    "\n",
    "- Who's SCRUM master for Sprint1?\n",
    "- Sprint1 (Week20)\n",
    "    - Initial research of this project by Students\n",
    "- Sprint1 review & planning at 10:00AM 22nd May\n",
    "    - Review WoW proposal from students\n",
    "    - Q&A for a client\n",
    "    - Prioritize user story?\n",
    "- Which Kanban board to share with customer?"
   ]
  }
 ],
 "metadata": {
  "kernelspec": {
   "display_name": "python3",
   "language": "python",
   "name": "python3"
  }
 },
 "nbformat": 4,
 "nbformat_minor": 5
}
