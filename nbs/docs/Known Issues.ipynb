{
 "cells": [
  {
   "cell_type": "markdown",
   "id": "b5bf45a0",
   "metadata": {},
   "source": [
    "# Known Issues"
   ]
  },
  {
   "cell_type": "markdown",
   "id": "5a4d8aec",
   "metadata": {},
   "source": [
    "- Training throws an exception if image width != image height\n",
    "- The \"Visualize\" button on the model page doesn't work\n",
    "- The Quantization options on the Compiling page do nothing"
   ]
  },
  {
   "cell_type": "code",
   "execution_count": null,
   "id": "035ae5b9",
   "metadata": {},
   "outputs": [],
   "source": []
  }
 ],
 "metadata": {
  "kernelspec": {
   "display_name": "python3",
   "language": "python",
   "name": "python3"
  }
 },
 "nbformat": 4,
 "nbformat_minor": 5
}
