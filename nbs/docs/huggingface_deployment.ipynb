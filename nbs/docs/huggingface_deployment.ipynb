{
 "cells": [
  {
   "cell_type": "markdown",
   "id": "9f617848",
   "metadata": {},
   "source": [
    "# Deployment to Huggingface\n",
    "\n"
   ]
  },
  {
   "cell_type": "markdown",
   "id": "a035920f",
   "metadata": {},
   "source": [
    "The .github/workflows/huggingface.yaml workflow automatically pushes the files in this repo to huggingface when changes are pushed to the `main` branch. The file huggingface.md contains the configuration for huggingface.\n",
    "\n",
    "The workflow requires the following variables/secrets to be set in the Github repo's settings:\n",
    "\n",
    "|Name|Type|Description|\n",
    "|----|----|-----------|\n",
    "| HF_TOKEN | Secret | huggingface access token with write privileges. |\n",
    "| HF_USERNAME | Variable | your huggingface username |\n",
    "| HF_SPACE | Variable | the name of the space on huggingface |\n",
    "\n",
    "For s3 to be usable in huggingface, you must add your AWS access key and secret key as secrets in the settings of the huggingface space.\n",
    "The names of the secrets must be `AWS_ACCESS_KEY_ID` and `AWS_SECRET_ACCESS_KEY`.\n",
    "\n",
    "You should also ensure that the `BUCKET_NAME` variable in nbs/aws_s3.py is set to your s3 bucket.\n"
   ]
  },
  {
   "cell_type": "code",
   "execution_count": null,
   "id": "d44f1786",
   "metadata": {},
   "outputs": [],
   "source": []
  }
 ],
 "metadata": {
  "kernelspec": {
   "display_name": "python3",
   "language": "python",
   "name": "python3"
  }
 },
 "nbformat": 4,
 "nbformat_minor": 5
}
