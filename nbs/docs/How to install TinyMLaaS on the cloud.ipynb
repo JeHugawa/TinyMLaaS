{
 "cells": [
  {
   "cell_type": "markdown",
   "id": "dd1a2589",
   "metadata": {},
   "source": [
    "# How to install TinyMLaaS on Cloud"
   ]
  },
  {
   "cell_type": "markdown",
   "id": "c56f9f24",
   "metadata": {},
   "source": [
    "Initially we were going to run TinyMLaaS on [huggingface.co](https://huggingface.co/). We made a Github Actions workflow for automatically deploying the app on huggingface. See the \"Deployment To Huggingface\" page for more information about configuring this."
   ]
  },
  {
   "cell_type": "markdown",
   "id": "630bf6d7",
   "metadata": {},
   "source": [
    "However, in its current state the app can't be hosted on huggingface, because huggingface doesn't let the app access docker and the app must build docker images to compile the person_detection code, and upload them to Dockerhub for the relay to download. As a result the installing page doesn't work on huggingface. Because of this, the huggingface workflow is no longer set to run on pushes to the main branch, but you can enable it again by undoing the commit `2648ec6dd16ed4baeb3e4d97bd508a99132f7aed`."
   ]
  },
  {
   "cell_type": "markdown",
   "id": "bda2a915",
   "metadata": {},
   "source": [
    "To be able to install TinyMLaaS on the cloud, you would either have to:\n",
    "\n",
    "1. Find a cloud provider that lets you run docker commands (build, login, push). Install the app there like you would locally. Set up the environment variables correctly (`DOCKERHUB_USER`, `DOCKERHUB_PASSWORD`, `AWS_ACCESS_KEY_ID` and `AWS_SECRET_ACCESS_KEY`, `USE_LOCALSTACK=0`).\n",
    "\n",
    "2. Modify the app to not require building docker images, enable the huggingface workflow and setup a huggingface space and the workflow with the instructions in \"Deployment To Huggingface\""
   ]
  }
 ],
 "metadata": {
  "kernelspec": {
   "display_name": "python3",
   "language": "python",
   "name": "python3"
  }
 },
 "nbformat": 4,
 "nbformat_minor": 5
}
