{
 "cells": [
  {
   "cell_type": "markdown",
   "id": "733121ee",
   "metadata": {},
   "source": [
    "#  What to implement in the future"
   ]
  },
  {
   "cell_type": "markdown",
   "id": "17484f20",
   "metadata": {},
   "source": [
    "What to implement next is up to the product owner to decide, but below is a list of various changes suggested by the previous developers."
   ]
  },
  {
   "cell_type": "markdown",
   "id": "03966f4f",
   "metadata": {},
   "source": [
    "- **Improved testing:** Currently there are no tests for any features involving the relay server or TinyML devices. It would be useful to have automated tests for model installation and observing. *You could for example run a mock relay in docker-compose in CI, allowing for all of the web app's features to be tested*"
   ]
  },
  {
   "cell_type": "markdown",
   "id": "bab131d7",
   "metadata": {},
   "source": [
    "- **Listing devices:** The relay should figure out what devices are connected to it and send this information to the web app to be displayed on the device page. We started work on this but failed to complete it due to several issues (scanning for usb devices doesn't work inside a docker container -> don't run relay inside docker (privileged mode) -> usb scanning doesn't work because relay doesn't have permissions to access usb devices). The device page contains code for scanning and displaying devices, the scanning should be moved to the relay, the permissions should be fixed and the app should request the information from the relay. *You could also not scan the USB devices: There's an unused function \"list_ports\" in `nbs/installing.ipynb` for finding connected arduino devices, and the pico could probably be detected by scanning the folders in `/media/$USER/`.the benefit of this is that you also get the serial port/mount point needed to upload code to the device.*\n"
   ]
  },
  {
   "cell_type": "markdown",
   "id": "cbf48b77",
   "metadata": {},
   "source": [
    "- **Properly support multiple devices:** Related to above, the web app currently doesn't know what devices are connected and can only tell the relay to install the model to \"an arduino\" or \"a pico\", but can't specify which device the model is installed to. So while the the app works with two different devices, it won't work with multiple of the same device connected to the relay. *After listing devices, the webapp should let the user select which device to use, and let the relay know its \"id\" when requesting install or predictions. The relay should then map the \"id\" in the request to the connected hardware. The install and prediction routes already take a device parameter which could be replaced by this \"id\".*"
   ]
  },
  {
   "cell_type": "markdown",
   "id": "dca05fae",
   "metadata": {},
   "source": [
    "- **Better management of device code:** Currently each device has its own directory (arduino/, rpi-pico/), but aside from hardware-specific camera code, the devices use the exact same code. It would be good if the code could somehow be shared between devices, rather than being copy-pasted every time. As the number of devices and models grow, the amount of effort needed to change things grows significantly if each device & model pair has its own code. *One way to accomplish this would be to have device-specific directories and a generic directory, and making the Dockerfiles cherry pick source files from both generic and device-specific directories on build.*"
   ]
  },
  {
   "cell_type": "markdown",
   "id": "1a26a8c3",
   "metadata": {},
   "source": [
    "- **Device code build caching**: Currently the arduino dockerfile takes over 5 minutes to build, because all of the code (including tflite-micro) has to rebuilt when the model file is changed. With the pico the dockerfile is instead built in such way that most of the build is cached allowing the person_detection to be built very quickly after changing the model file. It would be nice if the arduino builds also did this. "
   ]
  },
  {
   "cell_type": "markdown",
   "id": "d20011ff",
   "metadata": {},
   "source": [
    "- Fix the issues detailed in the *Known Issues* document."
   ]
  },
  {
   "cell_type": "code",
   "execution_count": null,
   "id": "9eceb871",
   "metadata": {},
   "outputs": [],
   "source": []
  }
 ],
 "metadata": {
  "kernelspec": {
   "display_name": "python3",
   "language": "python",
   "name": "python3"
  }
 },
 "nbformat": 4,
 "nbformat_minor": 5
}
