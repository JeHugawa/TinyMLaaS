{
 "cells": [
  {
   "attachments": {},
   "cell_type": "markdown",
   "id": "20b0f3ea",
   "metadata": {},
   "source": [
    "# TinyMLaaS installation guide (Linux)"
   ]
  },
  {
   "attachments": {},
   "cell_type": "markdown",
   "id": "3c8cd2d0",
   "metadata": {},
   "source": [
    "## Prerequisites\n",
    "- [Python3](https://www.python.org/downloads/)\n",
    "- [Docker](https://docs.docker.com/engine/install/)\n",
    "- [Nbdev](https://nbdev.fast.ai/getting_started.html)\n",
    "\n",
    "## Installation\n",
    "\n",
    "\n",
    "### Web App\n",
    "1. Clone the [GitHub repository](https://github.com/Origami-TinyML/tflm_hello_world):\n",
    "```bash\n",
    "    git clone git@github.com:Origami-TinyML/tflm_hello_world.git\n",
    "```\n",
    "\n",
    "2. Run (might require sudo):\n",
    "```bash\n",
    "    nbdev_install\n",
    "```\n",
    "\n",
    "3. Install docker-compose:\n",
    "```bash\n",
    "    sudo apt-get install docker-compose\n",
    "```\n",
    "\n",
    "4. Fill the missing environment variables in the docker-compose.yml file:\n",
    ">REMEMBER: DO NOT COMMIT ANY SENSITIVE INFORMATION TO THE REPOSITORY.\n",
    "   \n",
    "5. Launch the app (sudo password is required):\n",
    "```bash\n",
    "    make app\n",
    "```\n",
    "\n",
    "Open localhost:8501 on your web browser to start using the TinyMLaaS app.\n",
    "\n",
    "---\n",
    "\n",
    "### Relay Server\n",
    "\n",
    "Choose a relay server (has only been tested on Cubli).\n",
    "\n",
    "1. Clone the [GitHub repository](https://github.com/Origami-TinyML/tflm_hello_world):\n",
    "```bash\n",
    "    git clone git@github.com:Origami-TinyML/tflm_hello_world.git\n",
    "```\n",
    "\n",
    "2. Run (might require sudo):\n",
    "```bash\n",
    "    nbdev_install\n",
    "```\n",
    "\n",
    "3. Check the relay servers' `DOCKERHUB_USER` variable and modify it if necessary:\n",
    "```bash\n",
    "    head relay/components/install.py\n",
    "```\n",
    "\n",
    "4. Run the relay server (sudo might be required):\n",
    "```bash\n",
    "    python3 relay/main.py\n",
    "```"
   ]
  }
 ],
 "metadata": {
  "kernelspec": {
   "display_name": "python3",
   "language": "python",
   "name": "python3"
  }
 },
 "nbformat": 4,
 "nbformat_minor": 5
}
