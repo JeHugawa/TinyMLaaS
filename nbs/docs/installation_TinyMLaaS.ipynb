{
 "cells": [
  {
   "cell_type": "markdown",
   "id": "20b0f3ea",
   "metadata": {},
   "source": [
    "# TinyMLaaS installation guide (Linux)"
   ]
  },
  {
   "cell_type": "markdown",
   "id": "3c8cd2d0",
   "metadata": {},
   "source": [
    "First open a terminal and install python3 and docker on the command line.\n",
    "\n",
    "Docker installation: https://docs.docker.com/engine/install/\n",
    "\n",
    "Make a new folder and clone the GitHub repository into it with the ssh key.\n",
    "\n",
    "Install nbdev (sudo password is required):\n",
    "\n",
    "`nbdev_install`\n",
    "   \n",
    "Install docker-compose:\n",
    "   \n",
    "`sudo apt-get install docker-compose`\n",
    "   \n",
    "Launch the app (sudo password is required):\n",
    "   \n",
    "`make app`\n",
    "   \n",
    "Open localhost:8501 on your web browser to start using the TinyMLaaS app."
   ]
  }
 ],
 "metadata": {
  "kernelspec": {
   "display_name": "Python 3 (ipykernel)",
   "language": "python",
   "name": "python3"
  }
 },
 "nbformat": 4,
 "nbformat_minor": 5
}
