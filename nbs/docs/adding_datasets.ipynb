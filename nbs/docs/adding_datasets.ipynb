{
 "cells": [
  {
   "cell_type": "markdown",
   "id": "e7cfe610",
   "metadata": {},
   "source": [
    "# Adding a new dataset"
   ]
  },
  {
   "cell_type": "markdown",
   "id": "20fd5f75",
   "metadata": {},
   "source": [
    "Datasets are currently stored as directories on the computer that is running the application. Currently there are 2 image datasets included within the git repository: `data` and `data2`.\n",
    "\n",
    "Dataset directories should contain directories named `0` and `1` which contain the images by category. Currently there can only be 2 categories. The images should be in png or jpeg formats.\n",
    "\n",
    "Once you've created a new dataset directory, you just need to add an entry for it in the `dataset.csv` file. The first row describes the format of the file. The location column should contain the path to the dataset directory."
   ]
  },
  {
   "cell_type": "code",
   "execution_count": null,
   "id": "d4cac056",
   "metadata": {},
   "outputs": [],
   "source": []
  }
 ],
 "metadata": {
  "kernelspec": {
   "display_name": "python3",
   "language": "python",
   "name": "python3"
  }
 },
 "nbformat": 4,
 "nbformat_minor": 5
}
