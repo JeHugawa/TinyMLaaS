{
 "cells": [
  {
   "cell_type": "code",
   "execution_count": null,
   "id": "0c1448ae",
   "metadata": {},
   "outputs": [],
   "source": [
    "#| default_exp installing"
   ]
  },
  {
   "cell_type": "code",
   "execution_count": null,
   "id": "b926db8f",
   "metadata": {},
   "outputs": [],
   "source": [
    "#| export\n",
    "import subprocess\n",
    "import shutil\n",
    "import json"
   ]
  },
  {
   "cell_type": "code",
   "execution_count": null,
   "id": "34080366",
   "metadata": {},
   "outputs": [],
   "source": [
    "#| export\n",
    "\n",
    "class ArduinoNano33BLE_Installer:\n",
    "    def __convert_model_to_arduino(self, model_path : str):\n",
    "        \"Copies model.cc file to arduino directory and appends necessary include and const to the start of the file.\"\n",
    "        with open(\"arduino/template/person_detect_model_data.cpp\", \"w\") as model_file:\n",
    "            model_file.write(\"#include \\\"person_detect_model_data.h\\\"\\nconst \")\n",
    "            with open(\"models/model.cc\") as model_data:\n",
    "                model_file.write(model_data.read())\n",
    "            \n",
    "    def compile(self, model_path : str):\n",
    "        \"Compiles arduino sketch in docker, using model file at `model_path` in local filesystem\"\n",
    "        self.__convert_model_to_arduino(model_path)\n",
    "        subprocess.run(['docker build -t nano33ble arduino'], shell=True)\n",
    "\n",
    "    def upload(self, port:str):\n",
    "        \"Uploads compiled sketch in docker\"\n",
    "        cmd = f\"docker run --privileged nano33ble upload -p {port} --fqbn arduino:mbed_nano:nano33ble template\"\n",
    "        subprocess.run([cmd], shell=True)\n",
    "\n",
    "    def list_ports(self):\n",
    "        \"Returns a list of ports of connected devices\"\n",
    "        ports = []\n",
    "        cmd_output = subprocess.run(['docker run --privileged nano33ble board list --format=json'], shell=True,capture_output=True).stdout\n",
    "        result = json.loads(cmd_output.decode(\"ascii\"))\n",
    "        for row in result:\n",
    "            ports.append(row[\"port\"][\"address\"])\n",
    "        return ports"
   ]
  },
  {
   "cell_type": "code",
   "execution_count": null,
   "id": "9ab357ed",
   "metadata": {},
   "outputs": [],
   "source": [
    "#| hide\n",
    "from nbdev.showdoc import *\n",
    "from fastcore.test import *"
   ]
  },
  {
   "cell_type": "code",
   "execution_count": null,
   "id": "455ef484",
   "metadata": {},
   "outputs": [
    {
     "data": {
      "text/markdown": [
       "---\n",
       "\n",
       "### ArduinoNano33BLE_Installer.compile\n",
       "\n",
       ">      ArduinoNano33BLE_Installer.compile (model_path:str)\n",
       "\n",
       "Compiles arduino sketch in docker, using model file at `model_path` in local filesystem"
      ],
      "text/plain": [
       "---\n",
       "\n",
       "### ArduinoNano33BLE_Installer.compile\n",
       "\n",
       ">      ArduinoNano33BLE_Installer.compile (model_path:str)\n",
       "\n",
       "Compiles arduino sketch in docker, using model file at `model_path` in local filesystem"
      ]
     },
     "execution_count": null,
     "metadata": {},
     "output_type": "execute_result"
    }
   ],
   "source": [
    "show_doc(ArduinoNano33BLE_Installer.compile)"
   ]
  },
  {
   "cell_type": "code",
   "execution_count": null,
   "id": "b0803ce5",
   "metadata": {},
   "outputs": [
    {
     "data": {
      "text/markdown": [
       "---\n",
       "\n",
       "### ArduinoNano33BLE_Installer.compile\n",
       "\n",
       ">      ArduinoNano33BLE_Installer.compile (model_path:str)\n",
       "\n",
       "Compiles arduino sketch in docker, using model file at `model_path` in local filesystem"
      ],
      "text/plain": [
       "---\n",
       "\n",
       "### ArduinoNano33BLE_Installer.compile\n",
       "\n",
       ">      ArduinoNano33BLE_Installer.compile (model_path:str)\n",
       "\n",
       "Compiles arduino sketch in docker, using model file at `model_path` in local filesystem"
      ]
     },
     "execution_count": null,
     "metadata": {},
     "output_type": "execute_result"
    }
   ],
   "source": [
    "show_doc(ArduinoNano33BLE_Installer.compile)"
   ]
  }
 ],
 "metadata": {
  "kernelspec": {
   "display_name": "python3",
   "language": "python",
   "name": "python3"
  }
 },
 "nbformat": 4,
 "nbformat_minor": 5
}
