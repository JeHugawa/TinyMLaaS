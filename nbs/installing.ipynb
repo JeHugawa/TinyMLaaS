{
 "cells": [
  {
   "cell_type": "code",
   "execution_count": null,
   "id": "0c1448ae",
   "metadata": {},
   "outputs": [],
   "source": [
    "#| default_exp installing"
   ]
  },
  {
   "cell_type": "code",
   "execution_count": null,
   "id": "b926db8f",
   "metadata": {},
   "outputs": [],
   "source": [
    "#| export\n",
    "import subprocess\n",
    "import shutil\n",
    "import json"
   ]
  },
  {
   "cell_type": "code",
   "execution_count": null,
   "id": "34080366",
   "metadata": {},
   "outputs": [],
   "source": [
    "#| export\n",
    "\n",
    "class ArduinoNano33BLE_Installer:\n",
    "\n",
    "    def compile(self):\n",
    "        shutil.copyfile(\"models/model.cc\", \"arduino/template/person_detect_model_data.cpp\")\n",
    "        subprocess.run(['docker build -t nano33ble arduino'], shell=True)\n",
    "\n",
    "    def upload(self, port:str):\n",
    "        cmd = f\"docker run --privileged nano33ble upload -p {port} --fqbn arduino:mbed_nano:nano33ble template\"\n",
    "        subprocess.run([cmd], shell=True)\n",
    "\n",
    "    def list_ports(self):\n",
    "        ports = []\n",
    "        cmd_output = subprocess.run(['docker run --privileged nano33ble board list --format=json'], shell=True,capture_output=True).stdout\n",
    "        result = json.loads(cmd_output.decode(\"ascii\"))\n",
    "        for row in result:\n",
    "            ports.append(row[\"port\"][\"address\"])\n",
    "        return ports"
   ]
  },
  {
   "cell_type": "code",
   "execution_count": null,
   "id": "9ab357ed",
   "metadata": {},
   "outputs": [],
   "source": []
  }
 ],
 "metadata": {
  "kernelspec": {
   "display_name": "python3",
   "language": "python",
   "name": "python3"
  }
 },
 "nbformat": 4,
 "nbformat_minor": 5
}
