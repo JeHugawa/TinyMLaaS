{
 "cells": [
  {
   "cell_type": "code",
   "execution_count": null,
   "id": "0c1448ae",
   "metadata": {},
   "outputs": [],
   "source": [
    "#| default_exp installing"
   ]
  },
  {
   "cell_type": "code",
   "execution_count": null,
   "id": "b926db8f",
   "metadata": {},
   "outputs": [],
   "source": [
    "#| export\n",
    "import shutil\n",
    "import json\n",
    "import docker\n",
    "import os"
   ]
  },
  {
   "cell_type": "code",
   "execution_count": null,
   "id": "33b3bb6c",
   "metadata": {},
   "outputs": [],
   "source": [
    "#| export\n",
    "\n",
    "def upload_image_to_dockerhub(image_tag:str, dockerhub_user = None, dockerhub_pass = None):\n",
    "    \"Uploads a docker image to dockerhub. If username or password is not given, environmental variables DOCKERHUB_USER and DOCKERHUB_PASSWORD will be used instead\"\n",
    "    if not dockerhub_user or not dockerhub_pass:\n",
    "        dockerhub_user = os.getenv(\"DOCKERHUB_USER\")\n",
    "        dockerhub_pass = os.getenv(\"DOCKERHUB_PASSWORD\")\n",
    "        if not dockerhub_user:\n",
    "            raise Exception(\"DOCKERHUB_USER environment variable not defined\")\n",
    "        if not dockerhub_pass:\n",
    "            raise Exception(\"DOCKERHUB_PASSWORD environment variable not defined\")\n",
    "\n",
    "    dockerhub_tag = dockerhub_user+'/'+image_tag\n",
    "    client = docker.from_env()\n",
    "    client.login(dockerhub_user, dockerhub_pass)\n",
    "    if not docker.APIClient().tag(image_tag, dockerhub_tag):\n",
    "        raise Exception(f\"Failed to tag image: {image_tag} => {dockerhub_tag}\")\n",
    "    client.api.push(dockerhub_tag)"
   ]
  },
  {
   "cell_type": "code",
   "execution_count": null,
   "id": "34080366",
   "metadata": {},
   "outputs": [],
   "source": [
    "#| export\n",
    "    \n",
    "class ArduinoNano33BLE_Installer:\n",
    "    def __init__(self):\n",
    "        self.ARDUINO_DIR = \"arduino\"\n",
    "        self.CODE_DIR = self.ARDUINO_DIR + \"/template\"\n",
    "        self.DOCKER_IMG = \"nano33ble\"\n",
    "    \n",
    "    def __convert_model_to_arduino(self, model_path : str):\n",
    "        \"Copies model.cc file to arduino directory and appends necessary include and const to the start of the file.\"\n",
    "        with open(\"arduino/template/person_detect_model_data.cpp\", \"w\") as model_file:\n",
    "            model_file.write(\"#include \\\"person_detect_model_data.h\\\"\\n\")\n",
    "            with open(f\"{model_path}/model.cc\") as model_data:\n",
    "                model_file.write(model_data.read())\n",
    "            \n",
    "    def compile(self, model_path : str):\n",
    "        \"Compiles arduino sketch in docker, using model file at `model_path` in local filesystem\"\n",
    "        self.__convert_model_to_arduino(model_path)\n",
    "        client = docker.from_env()\n",
    "        image = client.images.build(path=self.ARDUINO_DIR, tag=self.DOCKER_IMG)\n",
    "        \n",
    "\n",
    "    def upload(self, dockerhub_user=None, dockerhub_pass=None):\n",
    "        \"Uploads compiled sketch inside docker image to dockerhub\"\n",
    "        upload_image_to_dockerhub(self.DOCKER_IMG, dockerhub_user, dockerhub_pass)\n",
    "        \n",
    "\n",
    "    def list_ports(self):\n",
    "        \"Returns a list of ports of connected devices\"\n",
    "        ports = []\n",
    "        cmd_output = subprocess.run(['docker run --privileged nano33ble board list --format=json'], shell=True,capture_output=True).stdout\n",
    "        result = json.loads(cmd_output.decode(\"ascii\"))\n",
    "        for row in result:\n",
    "            ports.append(row[\"port\"][\"address\"])\n",
    "        return ports"
   ]
  },
  {
   "cell_type": "code",
   "execution_count": null,
   "id": "9ab357ed",
   "metadata": {},
   "outputs": [],
   "source": [
    "#| hide\n",
    "from nbdev.showdoc import *\n",
    "from fastcore.test import *"
   ]
  },
  {
   "cell_type": "code",
   "execution_count": null,
   "id": "455ef484",
   "metadata": {},
   "outputs": [
    {
     "data": {
      "text/markdown": [
       "---\n",
       "\n",
       "### ArduinoNano33BLE_Installer.compile\n",
       "\n",
       ">      ArduinoNano33BLE_Installer.compile (model_path:str)\n",
       "\n",
       "Compiles arduino sketch in docker, using model file at `model_path` in local filesystem"
      ],
      "text/plain": [
       "---\n",
       "\n",
       "### ArduinoNano33BLE_Installer.compile\n",
       "\n",
       ">      ArduinoNano33BLE_Installer.compile (model_path:str)\n",
       "\n",
       "Compiles arduino sketch in docker, using model file at `model_path` in local filesystem"
      ]
     },
     "execution_count": null,
     "metadata": {},
     "output_type": "execute_result"
    }
   ],
   "source": [
    "show_doc(ArduinoNano33BLE_Installer.compile)"
   ]
  },
  {
   "cell_type": "code",
   "execution_count": null,
   "id": "b0803ce5",
   "metadata": {},
   "outputs": [
    {
     "ename": "NameError",
     "evalue": "name 'show_doc' is not defined",
     "output_type": "error",
     "traceback": [
      "\u001b[0;31m---------------------------------------------------------------------------\u001b[0m",
      "\u001b[0;31mNameError\u001b[0m                                 Traceback (most recent call last)",
      "\u001b[0;32m/tmp/ipykernel_5804/1277908880.py\u001b[0m in \u001b[0;36m<module>\u001b[0;34m\u001b[0m\n\u001b[0;32m----> 1\u001b[0;31m \u001b[0mshow_doc\u001b[0m\u001b[0;34m(\u001b[0m\u001b[0mArduinoNano33BLE_Installer\u001b[0m\u001b[0;34m.\u001b[0m\u001b[0mcompile\u001b[0m\u001b[0;34m)\u001b[0m\u001b[0;34m\u001b[0m\u001b[0;34m\u001b[0m\u001b[0m\n\u001b[0m",
      "\u001b[0;31mNameError\u001b[0m: name 'show_doc' is not defined"
     ]
    }
   ],
   "source": [
    "show_doc(ArduinoNano33BLE_Installer.compile)"
   ]
  },
  {
   "cell_type": "code",
   "execution_count": null,
   "id": "e0942edb",
   "metadata": {},
   "outputs": [],
   "source": []
  }
 ],
 "metadata": {
  "kernelspec": {
   "display_name": "python3",
   "language": "python",
   "name": "python3"
  }
 },
 "nbformat": 4,
 "nbformat_minor": 5
}
