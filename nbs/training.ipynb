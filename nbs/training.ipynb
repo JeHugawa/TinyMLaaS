{
 "cells": [
  {
   "cell_type": "code",
   "execution_count": null,
   "metadata": {},
   "outputs": [],
   "source": [
    "#| default_exp training"
   ]
  },
  {
   "cell_type": "code",
   "execution_count": null,
   "metadata": {},
   "outputs": [
    {
     "name": "stderr",
     "output_type": "stream",
     "text": [
      "2023-03-14 16:35:58.450585: I tensorflow/core/platform/cpu_feature_guard.cc:193] This TensorFlow binary is optimized with oneAPI Deep Neural Network Library (oneDNN) to use the following CPU instructions in performance-critical operations:  AVX2 FMA\n",
      "To enable them in other operations, rebuild TensorFlow with the appropriate compiler flags.\n",
      "2023-03-14 16:36:00.242729: W tensorflow/compiler/xla/stream_executor/platform/default/dso_loader.cc:64] Could not load dynamic library 'libnvinfer.so.7'; dlerror: libnvinfer.so.7: cannot open shared object file: No such file or directory; LD_LIBRARY_PATH: /home/taleta/.local/lib/python3.10/site-packages/cv2/../../lib64:\n",
      "2023-03-14 16:36:00.242847: W tensorflow/compiler/xla/stream_executor/platform/default/dso_loader.cc:64] Could not load dynamic library 'libnvinfer_plugin.so.7'; dlerror: libnvinfer_plugin.so.7: cannot open shared object file: No such file or directory; LD_LIBRARY_PATH: /home/taleta/.local/lib/python3.10/site-packages/cv2/../../lib64:\n",
      "2023-03-14 16:36:00.242872: W tensorflow/compiler/tf2tensorrt/utils/py_utils.cc:38] TF-TRT Warning: Cannot dlopen some TensorRT libraries. If you would like to use Nvidia GPU with TensorRT, please make sure the missing libraries mentioned above are installed properly.\n"
     ]
    }
   ],
   "source": [
    "#| export\n",
    "import matplotlib.pyplot as plt\n",
    "import numpy as np\n",
    "import cv2\n",
    "import PIL\n",
    "import tensorflow as tf\n",
    "import os\n",
    "import pandas as pd\n",
    "from io import BytesIO\n",
    "import subprocess\n",
    "\n",
    "from tensorflow import keras\n",
    "from tensorflow.keras import layers\n",
    "from tensorflow.keras.models import Sequential"
   ]
  },
  {
   "cell_type": "code",
   "execution_count": null,
   "metadata": {},
   "outputs": [],
   "source": [
    "#| export\n",
    "\n",
    "class train_model():\n",
    "\n",
    "  if not os.path.exists('models'):\n",
    "        os.mkdir('models')\n",
    "\n",
    "  def __init__(self):\n",
    "    self.MODELS_DIR = 'models'\n",
    "    self.MODEL_TF = self.MODELS_DIR + 'model'\n",
    "    self.MODEL_NO_QUANT_TFLITE = self.MODELS_DIR + '/model_no_quant.tflite'\n",
    "    self.MODEL_TFLITE = self.MODELS_DIR + '/model.tflite'\n",
    "    self.MODEL_TFLITE_MICRO = self.MODELS_DIR + '/model.cc'\n",
    "    self.data_dir = 'data/'\n",
    "\n",
    "  def load_data(self, img_height, img_width, batch_size):\n",
    "    \"\"\"\n",
    "    Loads data from the directory provided in data_dir\n",
    "    \"\"\"\n",
    "\n",
    "    train_ds = tf.keras.utils.image_dataset_from_directory(\n",
    "      self.data_dir,\n",
    "      validation_split=0.2,\n",
    "      subset=\"training\",\n",
    "      seed=123,\n",
    "      image_size=(img_height, img_width),\n",
    "      batch_size=batch_size)\n",
    "    \n",
    "    val_ds = tf.keras.utils.image_dataset_from_directory(\n",
    "      self.data_dir,\n",
    "      validation_split=0.2,\n",
    "      subset=\"validation\",\n",
    "      seed=123,\n",
    "      image_size=(img_height, img_width),\n",
    "      batch_size=batch_size)\n",
    "\n",
    "\n",
    "    return train_ds, val_ds\n",
    "\n",
    "\n",
    "  def train(self, img_height, img_width, epochs, optim_choice, train_ds, test_ds):\n",
    "    \"\"\"Model training \n",
    "\n",
    "    Args:\n",
    "        `img_height` (_int_): image pixel height\n",
    "        `img_width` (_int_): image pixel width\n",
    "        `epochs` (_int_): Number of epochs to train\n",
    "        `optim_choice` (_string_): Loss function to be used\n",
    "\n",
    "    Returns:\n",
    "        keras_model, statistics\n",
    "    \"\"\"\n",
    "\n",
    "    class_names = train_ds.class_names\n",
    "    \n",
    "    #Enable caching for training\n",
    "    AUTOTUNE = tf.data.AUTOTUNE\n",
    "    train = train_ds.cache().prefetch(buffer_size=AUTOTUNE)\n",
    "    test = test_ds.cache().prefetch(buffer_size=AUTOTUNE)\n",
    "\n",
    "    num_classes = len(class_names)\n",
    "\n",
    "    model = Sequential([\n",
    "      layers.Rescaling(1./255, input_shape=(img_height, img_width, 3)),\n",
    "      layers.Conv2D(16, 3, padding='same', activation='relu'),\n",
    "      layers.MaxPooling2D(),\n",
    "      layers.Conv2D(32, 3, padding='same', activation='relu'),\n",
    "      layers.MaxPooling2D(),\n",
    "      layers.Conv2D(64, 3, padding='same', activation='relu'),\n",
    "      layers.MaxPooling2D(),\n",
    "      layers.Dropout(0.20),\n",
    "      layers.Flatten(),\n",
    "      layers.Dense(128, activation='relu'),\n",
    "      layers.Dense(num_classes)\n",
    "    ])\n",
    "\n",
    "    if optim_choice == \"Categorical crossentropy\":\n",
    "      loss_fn = keras.losses.CategoricalCrossentropy(from_logits=True)\n",
    "    elif optim_choice == \"Sparse Categorical crossentropy\":\n",
    "      loss_fn = keras.losses.SparseCategoricalCrossentropy(from_logits=True)\n",
    "\n",
    "\n",
    "    model.compile(optimizer='adam',\n",
    "                  loss=loss_fn,\n",
    "                  metrics=['accuracy'])\n",
    "\n",
    "    model.summary()\n",
    "\n",
    "    epochs=epochs\n",
    "\n",
    "    history = model.fit(\n",
    "      train,\n",
    "      validation_data=test,\n",
    "      epochs=epochs\n",
    "    )\n",
    "    \n",
    "    epochs_range = range(epochs)\n",
    "\n",
    "    return model, history, epochs_range\n",
    "\n",
    "  def convert_model(self, model, train_ds):\n",
    "    \"\"\"Model conversion into TFLite model\n",
    "\n",
    "    Args:\n",
    "        `model` (_type_): _description_\n",
    "        `train_ds` (_type_): _description_\n",
    "\n",
    "    Yields:\n",
    "        _type_: _description_\n",
    "    \"\"\"\n",
    "\n",
    "    model.save('models/keras_model.h5')\n",
    "    # Convert the model to the TensorFlow Lite format without quantization\n",
    "    converter = tf.lite.TFLiteConverter.from_keras_model(model)\n",
    "    model_no_quant_tflite = converter.convert()\n",
    "\n",
    "    # Save the model to disk\n",
    "    open(self.MODEL_NO_QUANT_TFLITE, \"wb\").write(model_no_quant_tflite)\n",
    "\n",
    "    # Convert the model with quantization.\n",
    "    converter = tf.lite.TFLiteConverter.from_keras_model(model)\n",
    "    converter.optimizations = [tf.lite.Optimize.DEFAULT]\n",
    "\n",
    "    #uncomment to enable end-to-end int8-model, i.e. input and output is also int8/uint8.\n",
    "\n",
    "    #converter.target_spec.supported_ops = [tf.lite.OpsSet.TFLITE_BUILTINS_INT8]\n",
    "    #converter.inference_input_type = tf.int8\n",
    "    #converter.inference_output_type = tf.int8\n",
    "\n",
    "    def representative_dataset():\n",
    "      for data in tf.data.Dataset.from_tensor_slices((train_ds)).batch(1).take(100):\n",
    "        yield [data[0]]\n",
    "\n",
    "    #converter.representative_dataset = representative_dataset\n",
    "    tflite_model = converter.convert()\n",
    "\n",
    "    # Save the model.\n",
    "    with open(self.MODEL_TFLITE, 'wb') as f:\n",
    "      f.write(tflite_model)\n",
    "\n",
    "  def convert_to_c_array(self):\n",
    "    \"\"\"C array conversion\n",
    "\n",
    "    Args:\n",
    "        `model_file_name` (string): TFLite model name for the conversion command\n",
    "    \"\"\"\n",
    "\n",
    "    model_path = self.MODEL_TFLITE\n",
    "    array_path = self.MODEL_TFLITE_MICRO\n",
    "    \n",
    "    subprocess.run(['xxd -i models/model.tflite > models/model.cc'], shell=True)\n",
    "\n",
    "  def prediction(self, model, class_names):\n",
    "    \"\"\"Predicts on the image provided in the path.\n",
    "\n",
    "    Args:\n",
    "        `model` (tflite model): tflite model to be used in the prediction\n",
    "\n",
    "    Returns:\n",
    "        img: image predicted, result: formatted string for the result\n",
    "    \"\"\"\n",
    "\n",
    "    path = '/data/1/1.png'\n",
    "    img = cv2.imread(path)\n",
    "    img = cv2.resize(img, (180,180))\n",
    "    img_array = tf.keras.utils.img_to_array(img)\n",
    "    img_array = tf.expand_dims(img_array, 0) # Create a batch\n",
    "\n",
    "    predictions = model.predict(img_array)\n",
    "    score = tf.nn.softmax(predictions[0])\n",
    "\n",
    "    names = { 1 : \"human\",\n",
    "             2: \"not human\"}\n",
    "    result = (\"This image most likely belongs to {} with a {:.2f} percent confidence.\".format(names[np.argmax(score)], 100 * np.max(score)))\n",
    "    \n",
    "    return img, result\n",
    "\n",
    "  def plot_statistics(self, history, epochs_range):\n",
    "    \"\"\"Plot model training statistics\n",
    "\n",
    "    Args:\n",
    "        `history` (tuple?): tuple containing loss and accuracy values over training\n",
    "        `epochs_range` (int): amount of epochs used to train over\n",
    "\n",
    "    Returns:\n",
    "        BytesIO buffer: Matplotlib figure containing graphs about the training process\n",
    "    \"\"\"\n",
    "\n",
    "    acc = history.history['accuracy']\n",
    "    val_acc = history.history['val_accuracy']\n",
    "    loss = history.history['loss']\n",
    "    val_loss = history.history['val_loss']\n",
    "\n",
    "    stats = plt.figure(figsize=(8, 8))\n",
    "    plt.subplot(1, 2, 1)\n",
    "    plt.plot(epochs_range, acc, label='Training Accuracy')\n",
    "    plt.plot(epochs_range, val_acc, label='Validation Accuracy')\n",
    "    plt.legend(loc='lower right')\n",
    "    plt.title('Training and Validation Accuracy')\n",
    "\n",
    "    plt.subplot(1, 2, 2)\n",
    "    plt.plot(epochs_range, loss, label='Training Loss')\n",
    "    plt.plot(epochs_range, val_loss, label='Validation Loss')\n",
    "    plt.legend(loc='upper right')\n",
    "    plt.title('Training and Validation Loss')\n",
    "\n",
    "    buff = BytesIO()\n",
    "    stats.savefig(buff, format=\"png\")\n",
    "    \n",
    "    return buff\n",
    "\n",
    "  def plot_size(self):\n",
    "    \"\"\"Plots the size difference before and after quantization\n",
    "\n",
    "    Returns:\n",
    "        pandas dataframe: Pandas dataframe containing information\n",
    "    \"\"\"\n",
    "\n",
    "    size_no_quant_tflite = os.path.getsize(self.MODEL_NO_QUANT_TFLITE)\n",
    "    size_tflite = os.path.getsize(self.MODEL_TFLITE)\n",
    "\n",
    "    frame = pd.DataFrame.from_records(\n",
    "        [[\"TensorFlow Lite\", f\"{size_no_quant_tflite} bytes \"],\n",
    "        [\"TensorFlow Lite Quantized\", f\"{size_tflite} bytes\", f\"(reduced by {size_no_quant_tflite - size_tflite} bytes)\"]],\n",
    "        columns = [\"Model\", \"Size\", \"\"], index=\"Model\")\n",
    "      \n",
    "    return frame"
   ]
  },
  {
   "cell_type": "code",
   "execution_count": null,
   "metadata": {},
   "outputs": [],
   "source": [
    "#| hide\n",
    "from nbdev.showdoc import *\n",
    "from fastcore.test import *"
   ]
  },
  {
   "cell_type": "code",
   "execution_count": null,
   "metadata": {},
   "outputs": [
    {
     "data": {
      "text/markdown": [
       "---\n",
       "\n",
       "### train_model.load_data\n",
       "\n",
       ">      train_model.load_data (img_height, img_width, batch_size)\n",
       "\n",
       "Loads data from the directory provided in data_dir"
      ],
      "text/plain": [
       "---\n",
       "\n",
       "### train_model.load_data\n",
       "\n",
       ">      train_model.load_data (img_height, img_width, batch_size)\n",
       "\n",
       "Loads data from the directory provided in data_dir"
      ]
     },
     "execution_count": null,
     "metadata": {},
     "output_type": "execute_result"
    }
   ],
   "source": [
    "show_doc(train_model.load_data)"
   ]
  },
  {
   "cell_type": "code",
   "execution_count": null,
   "metadata": {},
   "outputs": [
    {
     "data": {
      "text/markdown": [
       "---\n",
       "\n",
       "### train_model.train\n",
       "\n",
       ">      train_model.train (img_height, img_width, epochs, optim_choice, train_ds,\n",
       ">                         test_ds)\n",
       "\n",
       "Model training \n",
       "\n",
       "Args:\n",
       "    `img_height` (_int_): image pixel height\n",
       "    `img_width` (_int_): image pixel width\n",
       "    `epochs` (_int_): Number of epochs to train\n",
       "    `optim_choice` (_string_): Loss function to be used\n",
       "\n",
       "Returns:\n",
       "    keras_model, statistics"
      ],
      "text/plain": [
       "---\n",
       "\n",
       "### train_model.train\n",
       "\n",
       ">      train_model.train (img_height, img_width, epochs, optim_choice, train_ds,\n",
       ">                         test_ds)\n",
       "\n",
       "Model training \n",
       "\n",
       "Args:\n",
       "    `img_height` (_int_): image pixel height\n",
       "    `img_width` (_int_): image pixel width\n",
       "    `epochs` (_int_): Number of epochs to train\n",
       "    `optim_choice` (_string_): Loss function to be used\n",
       "\n",
       "Returns:\n",
       "    keras_model, statistics"
      ]
     },
     "execution_count": null,
     "metadata": {},
     "output_type": "execute_result"
    }
   ],
   "source": [
    "show_doc(train_model.train)"
   ]
  },
  {
   "cell_type": "code",
   "execution_count": null,
   "metadata": {},
   "outputs": [
    {
     "data": {
      "text/markdown": [
       "---\n",
       "\n",
       "### train_model.convert_model\n",
       "\n",
       ">      train_model.convert_model (model, train_ds)\n",
       "\n",
       "Model conversion into TFLite model\n",
       "\n",
       "Args:\n",
       "    `model` (_type_): _description_\n",
       "    `train_ds` (_type_): _description_\n",
       "\n",
       "Yields:\n",
       "    _type_: _description_"
      ],
      "text/plain": [
       "---\n",
       "\n",
       "### train_model.convert_model\n",
       "\n",
       ">      train_model.convert_model (model, train_ds)\n",
       "\n",
       "Model conversion into TFLite model\n",
       "\n",
       "Args:\n",
       "    `model` (_type_): _description_\n",
       "    `train_ds` (_type_): _description_\n",
       "\n",
       "Yields:\n",
       "    _type_: _description_"
      ]
     },
     "execution_count": null,
     "metadata": {},
     "output_type": "execute_result"
    }
   ],
   "source": [
    "show_doc(train_model.convert_model)"
   ]
  },
  {
   "cell_type": "code",
   "execution_count": null,
   "metadata": {},
   "outputs": [
    {
     "data": {
      "text/markdown": [
       "---\n",
       "\n",
       "### train_model.convert_to_c_array\n",
       "\n",
       ">      train_model.convert_to_c_array ()\n",
       "\n",
       "C array conversion\n",
       "\n",
       "Args:\n",
       "    model_file_name (string): TFLite model name for the conversion command"
      ],
      "text/plain": [
       "---\n",
       "\n",
       "### train_model.convert_to_c_array\n",
       "\n",
       ">      train_model.convert_to_c_array ()\n",
       "\n",
       "C array conversion\n",
       "\n",
       "Args:\n",
       "    model_file_name (string): TFLite model name for the conversion command"
      ]
     },
     "execution_count": null,
     "metadata": {},
     "output_type": "execute_result"
    }
   ],
   "source": [
    "show_doc(train_model.convert_to_c_array)"
   ]
  },
  {
   "cell_type": "code",
   "execution_count": null,
   "metadata": {},
   "outputs": [
    {
     "data": {
      "text/markdown": [
       "---\n",
       "\n",
       "### train_model.prediction\n",
       "\n",
       ">      train_model.prediction (model, class_names)\n",
       "\n",
       "Predicts on the image provided in the path.\n",
       "\n",
       "Args:\n",
       "    `model` (tflite model): tflite model to be used in the prediction\n",
       "\n",
       "Returns:\n",
       "    img: image predicted, result: formatted string for the result"
      ],
      "text/plain": [
       "---\n",
       "\n",
       "### train_model.prediction\n",
       "\n",
       ">      train_model.prediction (model, class_names)\n",
       "\n",
       "Predicts on the image provided in the path.\n",
       "\n",
       "Args:\n",
       "    `model` (tflite model): tflite model to be used in the prediction\n",
       "\n",
       "Returns:\n",
       "    img: image predicted, result: formatted string for the result"
      ]
     },
     "execution_count": null,
     "metadata": {},
     "output_type": "execute_result"
    }
   ],
   "source": [
    "show_doc(train_model.prediction)"
   ]
  },
  {
   "cell_type": "code",
   "execution_count": null,
   "metadata": {},
   "outputs": [
    {
     "data": {
      "text/markdown": [
       "---\n",
       "\n",
       "### train_model.plot_statistics\n",
       "\n",
       ">      train_model.plot_statistics (history, epochs_range)\n",
       "\n",
       "Plot model training statistics\n",
       "\n",
       "Args:\n",
       "    history (tuple?): tuple containing loss and accuracy values over training\n",
       "    epochs_range (int): amount of epochs used to train over\n",
       "\n",
       "Returns:\n",
       "    BytesIO buffer: Matplotlib figure containing graphs about the training process"
      ],
      "text/plain": [
       "---\n",
       "\n",
       "### train_model.plot_statistics\n",
       "\n",
       ">      train_model.plot_statistics (history, epochs_range)\n",
       "\n",
       "Plot model training statistics\n",
       "\n",
       "Args:\n",
       "    history (tuple?): tuple containing loss and accuracy values over training\n",
       "    epochs_range (int): amount of epochs used to train over\n",
       "\n",
       "Returns:\n",
       "    BytesIO buffer: Matplotlib figure containing graphs about the training process"
      ]
     },
     "execution_count": null,
     "metadata": {},
     "output_type": "execute_result"
    }
   ],
   "source": [
    "show_doc(train_model.plot_statistics)"
   ]
  },
  {
   "cell_type": "code",
   "execution_count": null,
   "metadata": {},
   "outputs": [
    {
     "data": {
      "text/markdown": [
       "---\n",
       "\n",
       "### train_model.plot_size\n",
       "\n",
       ">      train_model.plot_size ()\n",
       "\n",
       "Plots the size difference before and after quantization\n",
       "\n",
       "Returns:\n",
       "    pandas dataframe: Pandas dataframe containing information"
      ],
      "text/plain": [
       "---\n",
       "\n",
       "### train_model.plot_size\n",
       "\n",
       ">      train_model.plot_size ()\n",
       "\n",
       "Plots the size difference before and after quantization\n",
       "\n",
       "Returns:\n",
       "    pandas dataframe: Pandas dataframe containing information"
      ]
     },
     "execution_count": null,
     "metadata": {},
     "output_type": "execute_result"
    }
   ],
   "source": [
    "show_doc(train_model.plot_size)"
   ]
  }
 ],
 "metadata": {
  "kernelspec": {
   "display_name": "python3",
   "language": "python",
   "name": "python3"
  }
 },
 "nbformat": 4,
 "nbformat_minor": 1
}
